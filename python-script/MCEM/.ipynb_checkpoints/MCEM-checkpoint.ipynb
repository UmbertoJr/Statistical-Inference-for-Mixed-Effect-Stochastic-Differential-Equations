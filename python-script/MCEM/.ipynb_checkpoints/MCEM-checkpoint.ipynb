{
 "cells": [
  {
   "cell_type": "code",
   "execution_count": 10,
   "metadata": {},
   "outputs": [],
   "source": [
    "from time import time\n",
    "import matplotlib.pyplot as plt\n",
    "import numpy as np\n"
   ]
  },
  {
   "cell_type": "code",
   "execution_count": 11,
   "metadata": {},
   "outputs": [],
   "source": [
    "from particle_markov_chain_monte_carlo import Particle_marginal_Metropolis_Hastings, dati\n",
    "from scipy.optimize import minimize,  differential_evolution, fmin\n",
    "from scipy.stats import norm, multivariate_normal\n",
    "\n",
    "class Monte_Carlo_Expectation_Maximization(dati):\n",
    "    def __init__(self, turni_da_ottimizzare = 30, campioni_monte_carlo = 10):\n",
    "        self.M = turni_da_ottimizzare\n",
    "        self.MC = campioni_monte_carlo\n",
    "        self.theta_history = np.zeros((6,self.M))\n",
    "        self.log_lik_history = np.zeros(self.M)\n",
    "        \n",
    "        self.PMCMC = Particle_marginal_Metropolis_Hastings(number_of_iterations=300)  #number_of_iterations=1000\n",
    "        \n",
    "        dati.__init__(self); \n",
    "        \n",
    "        self.PhiALL = np.zeros((self.MC, 6, 2))\n",
    "        self.XALL = np.zeros((self.MC, 6, 18))\n",
    "        \n",
    "        self.PARMIN = [0.01, 1e-5, 0.002, 1e-4, 0.0001, 0.3e-5] ; self.PARMAX = [1, 1e-1, 0.5, 0.5, 0.1, 5e-5]\n",
    "        self.bounds = []\n",
    "        for i in range(6):\n",
    "            self.bounds.append(tuple([self.PARMIN[i], self.PARMAX[i]]))\n",
    "        \n",
    "        \n",
    "    def run(self, theta_init):\n",
    "        self.theta_choose = theta_init\n",
    "        self.phi_subject = np.array(theta_init[:2])\n",
    "        \n",
    "        for em in range(self.M):\n",
    "            print(\"\\n### EM iterazione : \", em)\n",
    "            for iterazione in range(0, self.MC):\n",
    "                for subject in range(1,7):\n",
    "                    if iterazione > 0:\n",
    "                        self.phi_subject = self.PhiALL[iterazione-1, subject-1, :]\n",
    "                    phi, X = self.PMCMC.sample_PMCMC(subject, self.theta_choose, self.phi_subject)\n",
    "                    self.PhiALL[iterazione, subject-1, :] = phi  #self.PMCMC.phi_PMCMC[-1,:] ; \n",
    "\n",
    "                    len_subj = len(X)\n",
    "                    self.XALL[iterazione, subject-1, :len_subj] = X   #self.PMCMC.X_PMCMC[-1,:]\n",
    "\n",
    "\n",
    "\n",
    "            self.theta_choose = self.ottimizza_MC_approx()\n",
    "            self.theta_history[:,em] = self.theta_choose\n",
    "            self.log_lik_history[em] = self.MonteCarlo_Approximation(self.theta_choose)\n",
    "            \n",
    "            #if iterazione==0:\n",
    "             #   self.PMCMC = Particle_marginal_Metropolis_Hastings(number_of_iterations=100)\n",
    "                \n",
    "        return self.theta_choose\n",
    "    \n",
    "    \n",
    "    def ottimizza_MC_approx(self):\n",
    "        \n",
    "        #                self.iterazione = iterazione\n",
    "        res = minimize(self.MonteCarlo_Approximation , self.theta_choose, method=\"Nelder-Mead\")\n",
    "                       \n",
    "        print(res)\n",
    "        return res.x\n",
    "    \n",
    "    def MonteCarlo_Approximation(self, theta ):\n",
    "        for i in range(len(theta)):\n",
    "            if theta[i] > self.PARMAX[i] or theta[i] < self.PARMIN[i]:\n",
    "                return 1e+300\n",
    "        MC_log_l = 0\n",
    "        for mc_ in range(self.MC):\n",
    "            self.iterazione = mc_\n",
    "            logPY = self.Compute_LogLikelihood(theta)\n",
    "            MC_log_l += logPY\n",
    "        return MC_log_l\n",
    "        \n",
    "    def Compute_LogLikelihood(self, theta):\n",
    "        logpY = 0\n",
    "        #print(theta)\n",
    "        for i in range(len(theta)):\n",
    "            if theta[i] > self.PARMAX[i] or theta[i] < self.PARMIN[i]:\n",
    "                #print(i, theta[i], self.PARMAX[i], self.PARMIN[i])\n",
    "                return 1e+300\n",
    "        try:\n",
    "            self.phii_distr = multivariate_normal(theta[:2], np.diag(np.array(theta[2:4])**2))\n",
    "        except:\n",
    "            print(\"problema\")\n",
    "            print(theta)\n",
    "        for subj_ in range(1,7):\n",
    "            self.select_subj(subj_)\n",
    "\n",
    "            self.phi_i = self.PhiALL[self.iterazione,subj_ - 1, :]\n",
    "            self.X_i = self.XALL[self.iterazione, subj_ - 1, :len(self.timei)]\n",
    "            \n",
    "            pYigivenXi   = self.ModelCondDensityYgivenXevaluate(self.yobsi[0], self.X_i[0], theta);  \n",
    "            pXigivenPhii = self.ModelTransitionDensityXevaluate_initial(theta)\n",
    "            for i_ in range(1, len(self.timei)):\n",
    "                \n",
    "                pYijgivenXij = self.ModelCondDensityYgivenXevaluate(self.yobsi[i_], self.X_i[i_], theta) \n",
    "                pYigivenXi   *=  pYijgivenXij\n",
    "                #print(pYigivenXi, pYijgivenXij)\n",
    "                \n",
    "                pXijgivenPhii = self.ModelTransitionDensityXevaluate(i_, theta)\n",
    "                pXigivenPhii = pXigivenPhii * pXijgivenPhii;\n",
    "                \n",
    "                \n",
    "            if pYigivenXi==0:\n",
    "                pYigivenXi=1e-300\n",
    "            \n",
    "            if pXigivenPhii==0:\n",
    "                pXigivenPhii = 1e-300\n",
    "                \n",
    "                \n",
    "            logpYigivenXi = np.log(pYigivenXi)\n",
    "            logpXigivenPhii = np.log(pXigivenPhii)     \n",
    "            logpPhii = np.log(self.ModelAprioriDensityPhievaluate(theta))\n",
    "            \n",
    "            logpY += (logpYigivenXi + logpXigivenPhii + logpPhii)\n",
    "            #print(subj_, logpY, logpYigivenXi, logpXigivenPhii, logpPhii)\n",
    "            #print(\"\\n\\n\")\n",
    "        return -logpY\n",
    "    \n",
    "    \n",
    "    def ModelAprioriDensityPhievaluate(self, theta):\n",
    "        q = self.phii_distr.pdf(self.phi_i)\n",
    "        if q==0:\n",
    "            q = 1e-300\n",
    "        return q\n",
    "    \n",
    "    def ModelCondDensityYgivenXevaluate(self, y_, x_, theta):\n",
    "        p = norm.pdf(y_, x_, theta[5])\n",
    "        if p==0: \n",
    "            p = 1e-300\n",
    "        return p\n",
    "    \n",
    "    def ModelTransitionDensityXevaluate_initial(self, theta):\n",
    "        beta = theta[4]\n",
    "        time1 = self.timei[0]; time0 = 0\n",
    "        x_t1 = 1e-7\n",
    "        time = time0\n",
    "        deltat =  (time1 - time0)/ 100\n",
    "        while time < time1:\n",
    "            if (time1-time)>deltat:\n",
    "                dt = deltat\n",
    "            else:\n",
    "                dt = time1-time\n",
    "            x_t1 += self.ModelDrift(x_t1 )* dt\n",
    "            time += dt\n",
    "        uj = x_t1\n",
    "        sj = beta * uj * np.sqrt(self.timei[0])\n",
    "\n",
    "        p = norm.pdf(self.X_i[0] ,  uj, sj)\n",
    "        if p == 0:\n",
    "            p = 1e-300      \n",
    "            \n",
    "        #print(p, uj, sj)\n",
    "        return p\n",
    "    \n",
    " \n",
    "        \n",
    "    \n",
    "    def ModelTransitionDensityXevaluate(self, time_, theta):\n",
    "        beta = theta[4]\n",
    "        \n",
    "        uj = self.EulerStep(time_)\n",
    "        sj = beta * uj * np.sqrt(self.timei[time_] - self.timei[time_- 1])\n",
    "\n",
    "        p = norm.pdf(self.X_i[time_] ,  uj, sj)\n",
    "        if p == 0:\n",
    "            p = 1e-300      \n",
    "            \n",
    "        #print(p, uj, sj)\n",
    "        return p\n",
    "    \n",
    "    def EulerStep(self, time_):\n",
    "        time1 = self.timei[time_]; time0 = self.timei[time_ - 1]\n",
    "        x_t1 = self.X_i[time_ -1]\n",
    "        time = time0\n",
    "        deltat =  (time1 - time0)/ 100\n",
    "        while time < time1:\n",
    "            if (time1-time)>deltat:\n",
    "                dt = deltat\n",
    "            else:\n",
    "                dt = time1-time\n",
    "            x_t1 += self.ModelDrift(x_t1 )* dt\n",
    "            time += dt\n",
    "        return x_t1\n",
    "    \n",
    "    def ModelDrift(self, X):\n",
    "        return self.phi_i[0]* np.log(self.phi_i[1]/X)* X\n",
    "    "
   ]
  },
  {
   "cell_type": "code",
   "execution_count": 12,
   "metadata": {},
   "outputs": [
    {
     "name": "stdout",
     "output_type": "stream",
     "text": [
      "\n",
      "### EM iterazione :  0\n",
      "\tacceptance rate = 0.3367  for subject 1\n",
      "\tphi scelti: (8.576e-02 , 4.346e-03)  marginal y 4.3024e+77\n",
      "\tacceptance rate = 0.2567  for subject 2\n",
      "\tphi scelti: (8.033e-02 , 1.251e-02)  marginal y 4.2674e+67\n",
      "\tacceptance rate = 0.5467  for subject 3\n",
      "\tphi scelti: (1.264e-01 , 4.852e-04)  marginal y 7.6260e+83\n",
      "\tacceptance rate = 0.3433  for subject 4\n",
      "\tphi scelti: (1.199e-01 , 1.296e-03)  marginal y 3.2079e+62\n",
      "\tacceptance rate = 0.2500  for subject 5\n",
      "\tphi scelti: (1.200e-01 , 1.496e-03)  marginal y 6.2176e+91\n",
      "\tacceptance rate = 0.4333  for subject 6\n",
      "\tphi scelti: (9.174e-02 , 3.241e-03)  marginal y 7.3755e+62\n",
      "\tacceptance rate = 0.3300  for subject 1\n",
      "\tphi scelti: (1.034e-01 , 2.309e-03)  marginal y 5.8846e+77\n",
      "\tacceptance rate = 0.2633  for subject 2\n",
      "\tphi scelti: (8.884e-02 , 7.578e-03)  marginal y 3.3998e+67\n",
      "\tacceptance rate = 0.5267  for subject 3\n",
      "\tphi scelti: (1.299e-01 , 4.676e-04)  marginal y 8.6786e+83\n",
      "\tacceptance rate = 0.3733  for subject 4\n",
      "\tphi scelti: (1.381e-01 , 9.140e-04)  marginal y 4.2860e+62\n",
      "\tacceptance rate = 0.2167  for subject 5\n",
      "\tphi scelti: (1.045e-01 , 2.315e-03)  marginal y 4.6958e+91\n",
      "\tacceptance rate = 0.5367  for subject 6\n",
      "\tphi scelti: (1.397e-01 , 5.942e-04)  marginal y 1.1241e+63\n",
      "\tacceptance rate = 0.3333  for subject 1\n",
      "\tphi scelti: (9.851e-02 , 2.524e-03)  marginal y 3.3779e+77\n",
      "\tacceptance rate = 0.2733  for subject 2\n",
      "\tphi scelti: (8.480e-02 , 8.519e-03)  marginal y 2.9369e+67\n",
      "\tacceptance rate = 0.5433  for subject 3\n",
      "\tphi scelti: (1.221e-01 , 5.007e-04)  marginal y 8.6848e+83\n",
      "\tacceptance rate = 0.4200  for subject 4\n",
      "\tphi scelti: (1.255e-01 , 1.050e-03)  marginal y 2.1079e+62\n",
      "\tacceptance rate = 0.1867  for subject 5\n",
      "\tphi scelti: (1.227e-01 , 1.390e-03)  marginal y 7.6009e+91\n",
      "\tacceptance rate = 0.5333  for subject 6\n",
      "\tphi scelti: (1.434e-01 , 5.557e-04)  marginal y 1.3453e+63\n",
      "\tacceptance rate = 0.2533  for subject 1\n",
      "\tphi scelti: (9.851e-02 , 2.524e-03)  marginal y 5.5278e+77\n",
      "\tacceptance rate = 0.3867  for subject 2\n",
      "\tphi scelti: (8.620e-02 , 7.503e-03)  marginal y 2.5151e+67\n",
      "\tacceptance rate = 0.5033  for subject 3\n",
      "\tphi scelti: (1.208e-01 , 5.241e-04)  marginal y 6.9437e+83\n",
      "\tacceptance rate = 0.3367  for subject 4\n",
      "\tphi scelti: (1.319e-01 , 1.048e-03)  marginal y 3.3422e+62\n",
      "\tacceptance rate = 0.2433  for subject 5\n",
      "\tphi scelti: (1.121e-01 , 1.569e-03)  marginal y 3.7415e+91\n",
      "\tacceptance rate = 0.5567  for subject 6\n",
      "\tphi scelti: (1.637e-01 , 4.187e-04)  marginal y 1.0876e+63\n",
      "\tacceptance rate = 0.2967  for subject 1\n",
      "\tphi scelti: (1.111e-01 , 1.562e-03)  marginal y 3.2752e+77\n",
      "\tacceptance rate = 0.3467  for subject 2\n",
      "\tphi scelti: (8.900e-02 , 6.523e-03)  marginal y 4.6269e+67\n",
      "\tacceptance rate = 0.5767  for subject 3\n",
      "\tphi scelti: (1.329e-01 , 4.037e-04)  marginal y 5.8708e+83\n",
      "\tacceptance rate = 0.3267  for subject 4\n",
      "\tphi scelti: (1.309e-01 , 9.579e-04)  marginal y 2.4020e+62\n",
      "\tacceptance rate = 0.2300  for subject 5\n",
      "\tphi scelti: (1.161e-01 , 1.488e-03)  marginal y 4.5107e+91\n",
      "\tacceptance rate = 0.5667  for subject 6\n",
      "\tphi scelti: (1.271e-01 , 8.513e-04)  marginal y 1.1655e+63\n",
      "\tacceptance rate = 0.2700  for subject 1\n",
      "\tphi scelti: (1.042e-01 , 1.712e-03)  marginal y 3.8656e+77\n",
      "\tacceptance rate = 0.3467  for subject 2\n",
      "\tphi scelti: (8.900e-02 , 6.523e-03)  marginal y 3.4984e+67\n",
      "\tacceptance rate = 0.5300  for subject 3\n",
      "\tphi scelti: (1.193e-01 , 5.633e-04)  marginal y 7.2103e+83\n",
      "\tacceptance rate = 0.4467  for subject 4\n",
      "\tphi scelti: (1.309e-01 , 9.579e-04)  marginal y 3.2110e+62\n",
      "\tacceptance rate = 0.1600  for subject 5\n",
      "\tphi scelti: (1.109e-01 , 1.724e-03)  marginal y 9.8456e+91\n",
      "\tacceptance rate = 0.5000  for subject 6\n",
      "\tphi scelti: (1.407e-01 , 6.307e-04)  marginal y 1.4187e+63\n",
      "\tacceptance rate = 0.3100  for subject 1\n",
      "\tphi scelti: (1.088e-01 , 1.529e-03)  marginal y 3.7574e+77\n",
      "\tacceptance rate = 0.3800  for subject 2\n",
      "\tphi scelti: (9.963e-02 , 3.548e-03)  marginal y 2.0772e+67\n",
      "\tacceptance rate = 0.5033  for subject 3\n",
      "\tphi scelti: (1.359e-01 , 4.207e-04)  marginal y 6.9358e+83\n",
      "\tacceptance rate = 0.3933  for subject 4\n",
      "\tphi scelti: (1.345e-01 , 9.060e-04)  marginal y 2.1818e+62\n",
      "\tacceptance rate = 0.2233  for subject 5\n",
      "\tphi scelti: (1.141e-01 , 1.713e-03)  marginal y 7.4697e+91\n",
      "\tacceptance rate = 0.5300  for subject 6\n",
      "\tphi scelti: (1.344e-01 , 6.929e-04)  marginal y 1.5732e+63\n",
      "\tacceptance rate = 0.3333  for subject 1\n",
      "\tphi scelti: (1.102e-01 , 1.688e-03)  marginal y 3.5789e+77\n",
      "\tacceptance rate = 0.3567  for subject 2\n",
      "\tphi scelti: (1.113e-01 , 2.637e-03)  marginal y 1.3639e+67\n",
      "\tacceptance rate = 0.4767  for subject 3\n",
      "\tphi scelti: (1.210e-01 , 5.175e-04)  marginal y 7.5473e+83\n",
      "\tacceptance rate = 0.3867  for subject 4\n",
      "\tphi scelti: (1.381e-01 , 8.102e-04)  marginal y 2.2623e+62\n",
      "\tacceptance rate = 0.2367  for subject 5\n",
      "\tphi scelti: (1.152e-01 , 1.621e-03)  marginal y 7.0799e+91\n",
      "\tacceptance rate = 0.6067  for subject 6\n",
      "\tphi scelti: (1.442e-01 , 5.777e-04)  marginal y 1.1537e+63\n",
      "\tacceptance rate = 0.2633  for subject 1\n",
      "\tphi scelti: (1.003e-01 , 2.293e-03)  marginal y 4.1241e+77\n",
      "\tacceptance rate = 0.3533  for subject 2\n",
      "\tphi scelti: (8.780e-02 , 6.650e-03)  marginal y 2.5484e+67\n",
      "\tacceptance rate = 0.4867  for subject 3\n",
      "\tphi scelti: (1.214e-01 , 5.005e-04)  marginal y 8.2947e+83\n",
      "\tacceptance rate = 0.4067  for subject 4\n",
      "\tphi scelti: (1.482e-01 , 7.521e-04)  marginal y 1.9977e+62\n",
      "\tacceptance rate = 0.2133  for subject 5\n",
      "\tphi scelti: (1.239e-01 , 1.350e-03)  marginal y 7.2908e+91\n",
      "\tacceptance rate = 0.5633  for subject 6\n",
      "\tphi scelti: (1.535e-01 , 4.964e-04)  marginal y 1.4259e+63\n",
      "\tacceptance rate = 0.3267  for subject 1\n",
      "\tphi scelti: (1.024e-01 , 2.253e-03)  marginal y 3.8018e+77\n",
      "\tacceptance rate = 0.3067  for subject 2\n",
      "\tphi scelti: (8.644e-02 , 6.903e-03)  marginal y 2.7078e+67\n",
      "\tacceptance rate = 0.4367  for subject 3\n",
      "\tphi scelti: (1.214e-01 , 5.005e-04)  marginal y 8.0056e+83\n",
      "\tacceptance rate = 0.3667  for subject 4\n",
      "\tphi scelti: (1.390e-01 , 7.224e-04)  marginal y 2.2833e+62\n",
      "\tacceptance rate = 0.2000  for subject 5\n",
      "\tphi scelti: (1.249e-01 , 1.304e-03)  marginal y 3.8650e+91\n",
      "\tacceptance rate = 0.5700  for subject 6\n",
      "\tphi scelti: (1.465e-01 , 5.036e-04)  marginal y 1.2307e+63\n"
     ]
    },
    {
     "ename": "NameError",
     "evalue": "name 'Qm_1' is not defined",
     "output_type": "error",
     "traceback": [
      "\u001b[0;31m---------------------------------------------------------------------------\u001b[0m",
      "\u001b[0;31mNameError\u001b[0m                                 Traceback (most recent call last)",
      "\u001b[0;32m<ipython-input-12-6ee3afb1ac0b>\u001b[0m in \u001b[0;36m<module>\u001b[0;34m()\u001b[0m\n\u001b[1;32m      4\u001b[0m \u001b[0mMCEM\u001b[0m \u001b[0;34m=\u001b[0m \u001b[0mMonte_Carlo_Expectation_Maximization\u001b[0m\u001b[0;34m(\u001b[0m\u001b[0;34m)\u001b[0m\u001b[0;34m\u001b[0m\u001b[0m\n\u001b[1;32m      5\u001b[0m \u001b[0;34m\u001b[0m\u001b[0m\n\u001b[0;32m----> 6\u001b[0;31m \u001b[0mMCEM\u001b[0m\u001b[0;34m.\u001b[0m\u001b[0mrun\u001b[0m\u001b[0;34m(\u001b[0m\u001b[0mtheta\u001b[0m\u001b[0;34m)\u001b[0m\u001b[0;34m\u001b[0m\u001b[0m\n\u001b[0m\u001b[1;32m      7\u001b[0m \u001b[0mprint\u001b[0m\u001b[0;34m(\u001b[0m\u001b[0;34m\"tempo esecuzione : %.5f \"\u001b[0m\u001b[0;34m%\u001b[0m \u001b[0;34m(\u001b[0m\u001b[0mtime\u001b[0m\u001b[0;34m(\u001b[0m\u001b[0;34m)\u001b[0m\u001b[0;34m-\u001b[0m\u001b[0mstart\u001b[0m\u001b[0;34m)\u001b[0m\u001b[0;34m)\u001b[0m\u001b[0;34m\u001b[0m\u001b[0m\n",
      "\u001b[0;32m<ipython-input-11-6c1f03bb61fe>\u001b[0m in \u001b[0;36mrun\u001b[0;34m(self, theta_init)\u001b[0m\n\u001b[1;32m     41\u001b[0m \u001b[0;34m\u001b[0m\u001b[0m\n\u001b[1;32m     42\u001b[0m \u001b[0;34m\u001b[0m\u001b[0m\n\u001b[0;32m---> 43\u001b[0;31m             \u001b[0mself\u001b[0m\u001b[0;34m.\u001b[0m\u001b[0mtheta_choose\u001b[0m \u001b[0;34m=\u001b[0m \u001b[0mself\u001b[0m\u001b[0;34m.\u001b[0m\u001b[0mottimizza_MC_approx\u001b[0m\u001b[0;34m(\u001b[0m\u001b[0;34m)\u001b[0m\u001b[0;34m\u001b[0m\u001b[0m\n\u001b[0m\u001b[1;32m     44\u001b[0m             \u001b[0mself\u001b[0m\u001b[0;34m.\u001b[0m\u001b[0mtheta_history\u001b[0m\u001b[0;34m[\u001b[0m\u001b[0;34m:\u001b[0m\u001b[0;34m,\u001b[0m\u001b[0mem\u001b[0m\u001b[0;34m]\u001b[0m \u001b[0;34m=\u001b[0m \u001b[0mself\u001b[0m\u001b[0;34m.\u001b[0m\u001b[0mtheta_choose\u001b[0m\u001b[0;34m\u001b[0m\u001b[0m\n\u001b[1;32m     45\u001b[0m             \u001b[0mself\u001b[0m\u001b[0;34m.\u001b[0m\u001b[0mlog_lik_history\u001b[0m\u001b[0;34m[\u001b[0m\u001b[0mem\u001b[0m\u001b[0;34m]\u001b[0m \u001b[0;34m=\u001b[0m \u001b[0mself\u001b[0m\u001b[0;34m.\u001b[0m\u001b[0mMonteCarlo_Approximation\u001b[0m\u001b[0;34m(\u001b[0m\u001b[0mself\u001b[0m\u001b[0;34m.\u001b[0m\u001b[0mtheta_choose\u001b[0m\u001b[0;34m)\u001b[0m\u001b[0;34m\u001b[0m\u001b[0m\n",
      "\u001b[0;32m<ipython-input-11-6c1f03bb61fe>\u001b[0m in \u001b[0;36mottimizza_MC_approx\u001b[0;34m(self)\u001b[0m\n\u001b[1;32m     54\u001b[0m \u001b[0;34m\u001b[0m\u001b[0m\n\u001b[1;32m     55\u001b[0m         \u001b[0;31m#                self.iterazione = iterazione\u001b[0m\u001b[0;34m\u001b[0m\u001b[0;34m\u001b[0m\u001b[0m\n\u001b[0;32m---> 56\u001b[0;31m         \u001b[0mres\u001b[0m \u001b[0;34m=\u001b[0m \u001b[0mminimize\u001b[0m\u001b[0;34m(\u001b[0m\u001b[0mself\u001b[0m\u001b[0;34m.\u001b[0m\u001b[0mMonteCarlo_Approximation\u001b[0m \u001b[0;34m,\u001b[0m \u001b[0mself\u001b[0m\u001b[0;34m.\u001b[0m\u001b[0mtheta_choose\u001b[0m\u001b[0;34m,\u001b[0m \u001b[0mmethod\u001b[0m\u001b[0;34m=\u001b[0m\u001b[0;34m\"Nelder-Mead\"\u001b[0m\u001b[0;34m)\u001b[0m\u001b[0;34m\u001b[0m\u001b[0m\n\u001b[0m\u001b[1;32m     57\u001b[0m \u001b[0;34m\u001b[0m\u001b[0m\n\u001b[1;32m     58\u001b[0m         \u001b[0mprint\u001b[0m\u001b[0;34m(\u001b[0m\u001b[0mres\u001b[0m\u001b[0;34m)\u001b[0m\u001b[0;34m\u001b[0m\u001b[0m\n",
      "\u001b[0;32m~/anaconda3/envs/python3/lib/python3.6/site-packages/scipy/optimize/_minimize.py\u001b[0m in \u001b[0;36mminimize\u001b[0;34m(fun, x0, args, method, jac, hess, hessp, bounds, constraints, tol, callback, options)\u001b[0m\n\u001b[1;32m    589\u001b[0m                       callback=callback, **options)\n\u001b[1;32m    590\u001b[0m     \u001b[0;32melif\u001b[0m \u001b[0mmeth\u001b[0m \u001b[0;34m==\u001b[0m \u001b[0;34m'nelder-mead'\u001b[0m\u001b[0;34m:\u001b[0m\u001b[0;34m\u001b[0m\u001b[0m\n\u001b[0;32m--> 591\u001b[0;31m         \u001b[0;32mreturn\u001b[0m \u001b[0m_minimize_neldermead\u001b[0m\u001b[0;34m(\u001b[0m\u001b[0mfun\u001b[0m\u001b[0;34m,\u001b[0m \u001b[0mx0\u001b[0m\u001b[0;34m,\u001b[0m \u001b[0margs\u001b[0m\u001b[0;34m,\u001b[0m \u001b[0mcallback\u001b[0m\u001b[0;34m,\u001b[0m \u001b[0;34m**\u001b[0m\u001b[0moptions\u001b[0m\u001b[0;34m)\u001b[0m\u001b[0;34m\u001b[0m\u001b[0m\n\u001b[0m\u001b[1;32m    592\u001b[0m     \u001b[0;32melif\u001b[0m \u001b[0mmeth\u001b[0m \u001b[0;34m==\u001b[0m \u001b[0;34m'powell'\u001b[0m\u001b[0;34m:\u001b[0m\u001b[0;34m\u001b[0m\u001b[0m\n\u001b[1;32m    593\u001b[0m         \u001b[0;32mreturn\u001b[0m \u001b[0m_minimize_powell\u001b[0m\u001b[0;34m(\u001b[0m\u001b[0mfun\u001b[0m\u001b[0;34m,\u001b[0m \u001b[0mx0\u001b[0m\u001b[0;34m,\u001b[0m \u001b[0margs\u001b[0m\u001b[0;34m,\u001b[0m \u001b[0mcallback\u001b[0m\u001b[0;34m,\u001b[0m \u001b[0;34m**\u001b[0m\u001b[0moptions\u001b[0m\u001b[0;34m)\u001b[0m\u001b[0;34m\u001b[0m\u001b[0m\n",
      "\u001b[0;32m~/anaconda3/envs/python3/lib/python3.6/site-packages/scipy/optimize/optimize.py\u001b[0m in \u001b[0;36m_minimize_neldermead\u001b[0;34m(func, x0, args, callback, maxiter, maxfev, disp, return_all, initial_simplex, xatol, fatol, adaptive, **unknown_options)\u001b[0m\n\u001b[1;32m    550\u001b[0m \u001b[0;34m\u001b[0m\u001b[0m\n\u001b[1;32m    551\u001b[0m     \u001b[0;32mfor\u001b[0m \u001b[0mk\u001b[0m \u001b[0;32min\u001b[0m \u001b[0mrange\u001b[0m\u001b[0;34m(\u001b[0m\u001b[0mN\u001b[0m \u001b[0;34m+\u001b[0m \u001b[0;36m1\u001b[0m\u001b[0;34m)\u001b[0m\u001b[0;34m:\u001b[0m\u001b[0;34m\u001b[0m\u001b[0m\n\u001b[0;32m--> 552\u001b[0;31m         \u001b[0mfsim\u001b[0m\u001b[0;34m[\u001b[0m\u001b[0mk\u001b[0m\u001b[0;34m]\u001b[0m \u001b[0;34m=\u001b[0m \u001b[0mfunc\u001b[0m\u001b[0;34m(\u001b[0m\u001b[0msim\u001b[0m\u001b[0;34m[\u001b[0m\u001b[0mk\u001b[0m\u001b[0;34m]\u001b[0m\u001b[0;34m)\u001b[0m\u001b[0;34m\u001b[0m\u001b[0m\n\u001b[0m\u001b[1;32m    553\u001b[0m \u001b[0;34m\u001b[0m\u001b[0m\n\u001b[1;32m    554\u001b[0m     \u001b[0mind\u001b[0m \u001b[0;34m=\u001b[0m \u001b[0mnumpy\u001b[0m\u001b[0;34m.\u001b[0m\u001b[0margsort\u001b[0m\u001b[0;34m(\u001b[0m\u001b[0mfsim\u001b[0m\u001b[0;34m)\u001b[0m\u001b[0;34m\u001b[0m\u001b[0m\n",
      "\u001b[0;32m~/anaconda3/envs/python3/lib/python3.6/site-packages/scipy/optimize/optimize.py\u001b[0m in \u001b[0;36mfunction_wrapper\u001b[0;34m(*wrapper_args)\u001b[0m\n\u001b[1;32m    291\u001b[0m     \u001b[0;32mdef\u001b[0m \u001b[0mfunction_wrapper\u001b[0m\u001b[0;34m(\u001b[0m\u001b[0;34m*\u001b[0m\u001b[0mwrapper_args\u001b[0m\u001b[0;34m)\u001b[0m\u001b[0;34m:\u001b[0m\u001b[0;34m\u001b[0m\u001b[0m\n\u001b[1;32m    292\u001b[0m         \u001b[0mncalls\u001b[0m\u001b[0;34m[\u001b[0m\u001b[0;36m0\u001b[0m\u001b[0;34m]\u001b[0m \u001b[0;34m+=\u001b[0m \u001b[0;36m1\u001b[0m\u001b[0;34m\u001b[0m\u001b[0m\n\u001b[0;32m--> 293\u001b[0;31m         \u001b[0;32mreturn\u001b[0m \u001b[0mfunction\u001b[0m\u001b[0;34m(\u001b[0m\u001b[0;34m*\u001b[0m\u001b[0;34m(\u001b[0m\u001b[0mwrapper_args\u001b[0m \u001b[0;34m+\u001b[0m \u001b[0margs\u001b[0m\u001b[0;34m)\u001b[0m\u001b[0;34m)\u001b[0m\u001b[0;34m\u001b[0m\u001b[0m\n\u001b[0m\u001b[1;32m    294\u001b[0m \u001b[0;34m\u001b[0m\u001b[0m\n\u001b[1;32m    295\u001b[0m     \u001b[0;32mreturn\u001b[0m \u001b[0mncalls\u001b[0m\u001b[0;34m,\u001b[0m \u001b[0mfunction_wrapper\u001b[0m\u001b[0;34m\u001b[0m\u001b[0m\n",
      "\u001b[0;32m<ipython-input-11-6c1f03bb61fe>\u001b[0m in \u001b[0;36mMonteCarlo_Approximation\u001b[0;34m(self, theta)\u001b[0m\n\u001b[1;32m     68\u001b[0m             \u001b[0mlogPY\u001b[0m \u001b[0;34m=\u001b[0m \u001b[0mself\u001b[0m\u001b[0;34m.\u001b[0m\u001b[0mCompute_LogLikelihood\u001b[0m\u001b[0;34m(\u001b[0m\u001b[0mtheta\u001b[0m\u001b[0;34m)\u001b[0m\u001b[0;34m\u001b[0m\u001b[0m\n\u001b[1;32m     69\u001b[0m             \u001b[0mMC_log_l\u001b[0m \u001b[0;34m+=\u001b[0m \u001b[0mlogPY\u001b[0m\u001b[0;34m\u001b[0m\u001b[0m\n\u001b[0;32m---> 70\u001b[0;31m         \u001b[0;32mreturn\u001b[0m \u001b[0mQm_1\u001b[0m \u001b[0;34m+\u001b[0m \u001b[0mself\u001b[0m\u001b[0;34m.\u001b[0m\u001b[0mlambda_\u001b[0m \u001b[0;34m*\u001b[0m \u001b[0;34m(\u001b[0m\u001b[0mlogPY\u001b[0m \u001b[0;34m-\u001b[0m \u001b[0mQm_1\u001b[0m\u001b[0;34m)\u001b[0m\u001b[0;34m\u001b[0m\u001b[0m\n\u001b[0m\u001b[1;32m     71\u001b[0m \u001b[0;34m\u001b[0m\u001b[0m\n\u001b[1;32m     72\u001b[0m     \u001b[0;32mdef\u001b[0m \u001b[0mCompute_LogLikelihood\u001b[0m\u001b[0;34m(\u001b[0m\u001b[0mself\u001b[0m\u001b[0;34m,\u001b[0m \u001b[0mtheta\u001b[0m\u001b[0;34m)\u001b[0m\u001b[0;34m:\u001b[0m\u001b[0;34m\u001b[0m\u001b[0m\n",
      "\u001b[0;31mNameError\u001b[0m: name 'Qm_1' is not defined"
     ]
    }
   ],
   "source": [
    "start = time()\n",
    "\n",
    "theta = [0.089, 0.0034, 0.2 , 0.2, 0.1, 5e-5] \n",
    "MCEM = Monte_Carlo_Expectation_Maximization()\n",
    "\n",
    "MCEM.run(theta)\n",
    "print(\"tempo esecuzione : %.5f \"% (time()-start))"
   ]
  },
  {
   "cell_type": "code",
   "execution_count": 14,
   "metadata": {},
   "outputs": [
    {
     "name": "stdout",
     "output_type": "stream",
     "text": [
      "[[1.18643347e-01 0.00000000e+00]\n",
      " [0.00000000e+00 1.00064472e-10]]\n"
     ]
    },
    {
     "data": {
      "text/plain": [
       "<scipy.stats._multivariate.multivariate_normal_frozen at 0x2941eac97b8>"
      ]
     },
     "execution_count": 14,
     "metadata": {},
     "output_type": "execute_result"
    }
   ],
   "source": [
    "a = np.array([3.44446436e-01, 1.00032231e-05])\n",
    "v = np.diag(a**2)\n",
    "print(v)\n",
    "multivariate_normal(a,v)"
   ]
  },
  {
   "cell_type": "code",
   "execution_count": 17,
   "metadata": {},
   "outputs": [
    {
     "name": "stdout",
     "output_type": "stream",
     "text": [
      "3988.732773340162 1.96e-06 1e-07\n",
      "3977.2404065395585 8.1e-06 2.790714452729808e-07\n",
      "3966.3380607339523 1.16e-05 8.266127858042304e-07\n",
      "3944.75379119379 2.09e-05 5.89332296414592e-06\n",
      "3809.4213574947044 3.17e-05 1.3127471270614917e-06\n",
      "3580.1674469118648 5.57e-05 9.173236177406017e-06\n",
      "3606.1207448308946 7.03e-05 2.5352485909584112e-05\n",
      "3299.222991369751 0.000105 4.336241792509879e-05\n",
      "2384.981915622893 0.00015 4.856479723233464e-05\n",
      "2586.5151558918506 0.00022 0.00012690487770768922\n",
      "3488.5931354044405 0.000226 0.00017420269931519967\n",
      "3912.06944409895 0.000252 0.00023221108582295485\n"
     ]
    }
   ],
   "source": [
    "for i_ in range(0, len(SAEM.timei)):\n",
    "    print(SAEM.ModelCondDensityYgivenXevaluate(SAEM.yobsi[i_], SAEM.X_i[i_], theta), SAEM.yobsi[i_], SAEM.X_i[i_] )"
   ]
  },
  {
   "cell_type": "code",
   "execution_count": 18,
   "metadata": {},
   "outputs": [
    {
     "data": {
      "text/plain": [
       "(array([1.96e-06, 8.10e-06, 1.16e-05, 2.09e-05, 3.17e-05, 5.57e-05,\n",
       "        7.03e-05, 1.05e-04, 1.50e-04, 2.20e-04, 2.26e-04, 2.52e-04]),\n",
       " array([1.00000000e-07, 2.79071445e-07, 8.26612786e-07, 5.89332296e-06,\n",
       "        1.31274713e-06, 9.17323618e-06, 2.53524859e-05, 4.33624179e-05,\n",
       "        4.85647972e-05, 1.26904878e-04, 1.74202699e-04, 2.32211086e-04]),\n",
       " array([ 4.4526,  5.6351,  6.4907,  7.6979,  8.4773,  9.2978, 10.692 ,\n",
       "        11.3167, 12.8289, 14.5346, 15.5006, 16.4679]))"
      ]
     },
     "execution_count": 18,
     "metadata": {},
     "output_type": "execute_result"
    }
   ],
   "source": [
    "SAEM.yobsi, SAEM.X_i, SAEM.timei"
   ]
  },
  {
   "cell_type": "code",
   "execution_count": 20,
   "metadata": {},
   "outputs": [
    {
     "name": "stdout",
     "output_type": "stream",
     "text": [
      "[0.3, 0.009, 0.2, 0.3, 0.3, 0.0001] 754.2900883533351\n",
      "[2.82509615e-02 5.03784905e-05 2.97474419e-01 4.20632943e-05\n",
      " 5.47894204e-01 2.29341405e-04] inf\n"
     ]
    },
    {
     "name": "stderr",
     "output_type": "stream",
     "text": [
      "C:\\Users\\Umbertojunior\\Anaconda3\\lib\\site-packages\\ipykernel_launcher.py:115: RuntimeWarning: divide by zero encountered in log\n"
     ]
    }
   ],
   "source": [
    "print(theta, SAEM.Compute_LogLikelihood(theta))\n",
    "print(SAEM.theta_choose, SAEM.Compute_LogLikelihood(SAEM.theta_choose))"
   ]
  },
  {
   "cell_type": "code",
   "execution_count": 5,
   "metadata": {},
   "outputs": [],
   "source": [
    "from scipy.optimize import differential_evolution"
   ]
  },
  {
   "cell_type": "code",
   "execution_count": 4,
   "metadata": {},
   "outputs": [
    {
     "data": {
      "text/plain": [
       "7.28225681210432"
      ]
     },
     "execution_count": 4,
     "metadata": {},
     "output_type": "execute_result"
    }
   ],
   "source": [
    "1/((80 - 60)**0.8)"
   ]
  },
  {
   "cell_type": "code",
   "execution_count": null,
   "metadata": {},
   "outputs": [
    {
     "data": {
      "text/plain": [
       "[(0.01, 1),\n",
       " (1e-06, 0.1),\n",
       " (0.0001, 0.5),\n",
       " (1e-06, 1),\n",
       " (0.0001, 1),\n",
       " (1e-05, 0.001)]"
      ]
     },
     "execution_count": 6,
     "metadata": {},
     "output_type": "execute_result"
    }
   ],
   "source": [
    "SAEM.bounds"
   ]
  },
  {
   "cell_type": "code",
   "execution_count": null,
   "metadata": {},
   "outputs": [
    {
     "name": "stderr",
     "output_type": "stream",
     "text": [
      "C:\\Users\\Umbertojunior\\Anaconda3\\lib\\site-packages\\ipykernel_launcher.py:103: RuntimeWarning: divide by zero encountered in log\n",
      "C:\\Users\\Umbertojunior\\Anaconda3\\lib\\site-packages\\ipykernel_launcher.py:104: RuntimeWarning: divide by zero encountered in log\n",
      "C:\\Users\\Umbertojunior\\Anaconda3\\lib\\site-packages\\numpy\\core\\_methods.py:112: RuntimeWarning: invalid value encountered in subtract\n",
      "  x = asanyarray(arr - arrmean)\n"
     ]
    }
   ],
   "source": [
    "res = differential_evolution(SAEM.Compute_LogLikelihood , bounds=SAEM.bounds)\n",
    "               \n",
    "print(res)    "
   ]
  },
  {
   "cell_type": "code",
   "execution_count": null,
   "metadata": {},
   "outputs": [],
   "source": [
    "SAEM.iterazione"
   ]
  },
  {
   "cell_type": "code",
   "execution_count": null,
   "metadata": {},
   "outputs": [],
   "source": [
    "PMCMC = Particle_marginal_Metropolis_Hastings(number_of_iterations=1000)\n",
    "start = time()\n",
    "PMCMC.sample_PMCMC(1, theta)\n",
    "print(\"tempo esecuzione PMCMC : %.4f sec\"% (time()-start))\n",
    "\n",
    "fig , (ax1, ax2) = plt.subplots(1, 2)\n",
    "ax1.plot(np.arange(PMCMC.NI),PMCMC.phi_PMCMC[:,0])\n",
    "ax2.plot(np.arange(PMCMC.NI),PMCMC.phi_PMCMC[:,1])\n",
    "print(\"marginal Y pmcmc = \", np.max(PMCMC.marginal_pmcmc))"
   ]
  },
  {
   "cell_type": "code",
   "execution_count": null,
   "metadata": {},
   "outputs": [],
   "source": [
    "PMCMC.phi_PMCMC"
   ]
  },
  {
   "cell_type": "code",
   "execution_count": null,
   "metadata": {},
   "outputs": [],
   "source": [
    "ind_max = np.argmax(PMCMC.marginal_pmcmc)\n",
    "theta2 = [PMCMC.phi_PMCMC[ind_max,0], PMCMC.phi_PMCMC[ind_max,1] , 0.5, 35e-3, 0.1, 1e-5]\n",
    "PMCMC.fit_SMC(1, theta2)  #np.mean(PMCMC.phi_PMCMC[0,800:])\n",
    "plt.plot(PMCMC.timei, PMCMC.sampling_a_path().flatten(), \"b*\", markersize=5, label = \"sampled from SMC with phi max\")\n",
    "plt.plot(PMCMC.timei, PMCMC.X_PMCMC[-1,:], \"g*\", markersize=5, label = \"sampled from PMCMC\")\n",
    "plt.plot(PMCMC.timei, np.mean(PMCMC.X_PMCMC, axis=0), \"y*\", markersize=5, label = \"sampled from PMCMC mean\")\n",
    "\n",
    "plt.plot(PMCMC.timei, PMCMC.yobsi, \"r*\", markersize=12, label = \"observed\")\n",
    "plt.legend()\n",
    "\n",
    "print(\"\\n \\nalpha = %.4e  \\t  kappa = %.4e\"%(PMCMC.phi_PMCMC[ind_max,0], PMCMC.phi_PMCMC[ind_max,1]))\n",
    "print(\"marginal Y SMC sampled = \", PMCMC.marginal_y)\n",
    "\n",
    "print(\"\\n \\nalpha = %.4e  \\t  kappa = %.4e\"%(PMCMC.phi_PMCMC[-1,0], PMCMC.phi_PMCMC[-1,1]))\n",
    "print(\"marginal Y PMPCMC sampled = \", PMCMC.marginal_pmcmc[-1])\n",
    "\n",
    "print(\"\\n \\nalpha = %.4e  \\t  kappa = %.4e\"%(PMCMC.phi_PMCMC[ind_max,0], PMCMC.phi_PMCMC[ind_max,1]))\n",
    "print(\"marginal Y PMCMC max = \", PMCMC.marginal_pmcmc[np.argmax(PMCMC.marginal_pmcmc)])\n"
   ]
  },
  {
   "cell_type": "code",
   "execution_count": null,
   "metadata": {},
   "outputs": [],
   "source": [
    "np.argmax(PMCMC.marginal_pmcmc), PMCMC.marginal_pmcmc[np.argmax(PMCMC.marginal_pmcmc)]"
   ]
  },
  {
   "cell_type": "code",
   "execution_count": null,
   "metadata": {},
   "outputs": [],
   "source": [
    "PMCMC.marginal_pmcmc"
   ]
  },
  {
   "cell_type": "code",
   "execution_count": null,
   "metadata": {},
   "outputs": [],
   "source": [
    "from scipy.optimize import minimize"
   ]
  },
  {
   "cell_type": "code",
   "execution_count": null,
   "metadata": {},
   "outputs": [],
   "source": [
    "fun = lambda x: (x[0] - 1)**2 + (x[1] - 2.5)**2\n",
    "\n",
    "def fun_2(x):\n",
    "    return (x[0] - 1)**2 + (x[1] - 2.5)**2\n",
    "\n",
    "bnds = ((0,None), (0,None))"
   ]
  },
  {
   "cell_type": "code",
   "execution_count": null,
   "metadata": {},
   "outputs": [],
   "source": [
    "red = minimize(fun_2 , (4,0), method=\"L-BFGS-B\", bounds=bnds, options={'gtol': 1e-6, 'disp': True})"
   ]
  },
  {
   "cell_type": "code",
   "execution_count": null,
   "metadata": {},
   "outputs": [],
   "source": [
    "red.x"
   ]
  },
  {
   "cell_type": "code",
   "execution_count": null,
   "metadata": {},
   "outputs": [],
   "source": []
  }
 ],
 "metadata": {
  "kernelspec": {
   "display_name": "conda_python3",
   "language": "python",
   "name": "conda_python3"
  }
 },
 "nbformat": 4,
 "nbformat_minor": 2
}
