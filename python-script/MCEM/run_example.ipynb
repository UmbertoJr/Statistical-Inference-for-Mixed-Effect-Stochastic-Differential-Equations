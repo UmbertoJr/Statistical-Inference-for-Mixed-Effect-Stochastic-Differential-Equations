{
 "cells": [
  {
   "cell_type": "code",
   "execution_count": 1,
   "metadata": {},
   "outputs": [],
   "source": [
    "from SAEM import Stochasti_Approximation_Expectation_Maximization\n",
    "from time import time"
   ]
  },
  {
   "cell_type": "code",
   "execution_count": null,
   "metadata": {},
   "outputs": [
    {
     "name": "stdout",
     "output_type": "stream",
     "text": [
      "### ottimizazione iterazione :  0\n",
      "\tacceptance rate = 0.1367  for subject 1\n",
      "\tphi scelti: (1.051e-01 , 1.995e-03)  marginal y 4.8105e+83\n",
      "\tacceptance rate = 0.1133  for subject 2\n",
      "\tphi scelti: (1.066e-01 , 2.391e-03)  marginal y 1.9491e+72\n"
     ]
    }
   ],
   "source": [
    "start = time()\n",
    "# self.PARMIN = [0.01, 1e-6, 0.0001, 1e-5, 0.0001, 1e-5] ; self.PARMAX = [1, 1e-1, 0.05, 1e-1, 1, 1e-3]\n",
    "#theta = [0.3, 0.009, 0.2, 0.3, 0.3, 0.0001]   # [0.27, 0.0005, 0.04, 0.0035, 0.18, 0.0001]\n",
    "theta = [0.089, 0.0034, 0.2 , 0.2, 0.1, 1e-5] \n",
    "SAEM = Stochasti_Approximation_Expectation_Maximization()\n",
    "#SAEM.inizializza(theta)\n",
    "SAEM.run(theta)\n",
    "print(\"tempo esecuzione : %.5f \"% (time()-start))"
   ]
  },
  {
   "cell_type": "code",
   "execution_count": null,
   "metadata": {},
   "outputs": [],
   "source": [
    "f, ((ax1, ax2), (ax3, ax4)) = plt.subplots(2,2,figsize=(15,10))\n",
    "ax1.plot(-SAEM.log_lik_history, label= \"log loss - iterations\"); \n",
    "ax2.plot(SAEM.theta_history[0,:], SAEM.theta_history[1,:], label= \"kappa - alpha\")\n",
    "ax3.plot(SAEM.theta_history[0,:], label= \"alpha - iteration\", color= \"green\");\n",
    "ax4.plot(SAEM.theta_history[1,:], label= \"kappa - iteration\", color= \"orange\")\n",
    "ax1.legend();ax2.legend(); ax3.legend(); ax4.legend()"
   ]
  },
  {
   "cell_type": "code",
   "execution_count": null,
   "metadata": {},
   "outputs": [],
   "source": [
    "import matplotlib.pyplot as plt\n",
    "import numpy as np\n",
    "def x_fun_espl(t, alpha, kappa, Y_0):\n",
    "    y = kappa * np.exp( np.log(Y_0/kappa) *  np.exp(- alpha* t))\n",
    "    return y\n"
   ]
  },
  {
   "cell_type": "code",
   "execution_count": null,
   "metadata": {},
   "outputs": [],
   "source": [
    "for s_ in range(1,7):\n",
    "    SAEM.select_subj(s_)\n",
    "    c_r = tuple(np.random.rand(1,3).tolist()[0])\n",
    "    plt.plot(SAEM.timei, SAEM.yobsi, \"*\", color= c_r)\n",
    "    tempo = np.linspace(0.0, 25, 25000)\n",
    "    x_hat_medio = x_fun_espl(tempo,  SAEM.theta_choose[0], SAEM.theta_choose[1], 1e-7)  \n",
    "    x_hati = x_fun_espl(tempo, SAEM.PhiALL[SAEM.iterazione,s_ - 1, 0], SAEM.PhiALL[SAEM.iterazione,s_ -1, 1], 1e-7)  \n",
    "    plt.plot(tempo, x_hati, \"g-\", label = \"ultimi phii PMCMC\", color= c_r) \n",
    "plt.plot(tempo, x_hat_medio, label = \"medio popolazione\", color=\"black\")\n",
    "plt.legend()"
   ]
  },
  {
   "cell_type": "code",
   "execution_count": null,
   "metadata": {},
   "outputs": [],
   "source": [
    "s_=2\n",
    "SAEM.select_subj(s_)\n",
    "c_r = tuple(np.random.rand(1,3).tolist()[0])\n",
    "plt.plot(SAEM.timei, SAEM.yobsi, \"*\", color= c_r)\n",
    "tempo = np.linspace(0.0, 25, 25000)\n",
    "x_hat_medio = x_fun_espl(tempo,  SAEM.theta_choose[0], SAEM.theta_choose[1], 1e-7)  \n",
    "x_hati = x_fun_espl(tempo, SAEM.PhiALL[SAEM.iterazione,s_ - 1, 0], SAEM.PhiALL[SAEM.iterazione,s_ -1, 1], 1e-7)  \n",
    "plt.plot(tempo, x_hati, \"g-\", label = \"ultimi phii PMCMC\", color= c_r) "
   ]
  },
  {
   "cell_type": "code",
   "execution_count": null,
   "metadata": {},
   "outputs": [],
   "source": []
  }
 ],
 "metadata": {
  "kernelspec": {
   "display_name": "conda_python3",
   "language": "python",
   "name": "conda_python3"
  },
  "language_info": {
   "codemirror_mode": {
    "name": "ipython",
    "version": 3
   },
   "file_extension": ".py",
   "mimetype": "text/x-python",
   "name": "python",
   "nbconvert_exporter": "python",
   "pygments_lexer": "ipython3",
   "version": "3.6.5"
  }
 },
 "nbformat": 4,
 "nbformat_minor": 2
}
