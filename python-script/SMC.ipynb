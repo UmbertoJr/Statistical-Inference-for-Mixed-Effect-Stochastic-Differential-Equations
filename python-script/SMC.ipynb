{
 "cells": [
  {
   "cell_type": "code",
   "execution_count": null,
   "metadata": {},
   "outputs": [],
   "source": [
    "import numpy as np\n",
    "import matplotlib.pyplot as plt\n",
    "from time import time\n",
    "from particle_markov_chain_monte_carlo import Sequential_Monte_Carlo"
   ]
  },
  {
   "cell_type": "code",
   "execution_count": null,
   "metadata": {},
   "outputs": [],
   "source": [
    "start = time()\n",
    "SMC = Sequential_Monte_Carlo()#number_of_particles= 25)\n",
    "\n",
    "# il parametro sigma non ha senso che sia più piccolo di 1e-5 \n",
    "# o più grande di 1e-3\n",
    "\n",
    "theta = [0.27, 5e-4, 0.04, 35e-4, 0.18, 1e-4]\n",
    "#theta = [0.1598523555361324 , 0.0054268859793400086, 0.5, 35e-3, 0.2, 1e-3]\n",
    "SMC.fit_SMC(1, theta)\n",
    "\n",
    "print(\"tempo esecuzione : \", time()-start)\n",
    "\n",
    "f, (ax1, ax2) = plt.subplots(1,2)\n",
    "for i in range(SMC.np):\n",
    "    ax1.plot(SMC.timei, SMC.X_tot[i, :])\n",
    "\n",
    "ax1.plot(SMC.timei, SMC.yobsi, \"r*\", markersize=12, label = \"observed\")\n",
    "ax1.legend()\n",
    "print(\"marginal Y = \", SMC.marginal_y)\n",
    "\n",
    "ax2.plot(SMC.timei, SMC.sampling_a_path().flatten(), label = \"sampled\")\n",
    "ax2.plot(SMC.timei, SMC.yobsi, \"r*\", markersize=12, label = \"observed\")\n",
    "ax2.legend()\n",
    "\n",
    "SMC.marginal_particle"
   ]
  },
  {
   "cell_type": "code",
   "execution_count": 12,
   "metadata": {},
   "outputs": [],
   "source": [
    "import numpy as np\n",
    "from scipy.stats import norm, multivariate_normal\n",
    "\n",
    "class dati:\n",
    "    def __init__(self):\n",
    "        data = np.genfromtxt('FreyerSutherland.dat')\n",
    "        self.names = data[1:]\n",
    "        data = data[1:]\n",
    "        self.time = data[:,0]\n",
    "        self.yobs = data[:,1]\n",
    "        self.subj = data[:,2]\n",
    "\n",
    "    def select_subj(self, num):\n",
    "        self.timei = self.time[self.subj == num]\n",
    "        self.yobsi = self.yobs[self.subj == num]\n",
    "\n",
    "class Sequential_Monte_Carlo(dati):\n",
    "    def __init__(self,  number_of_particles = 25, proposal = []):  #IDS, LDS, OD,\n",
    "        #self.initial_distr_sampler = IDS     # this is the function used to sample the initial distribution\n",
    "        #self.latent_transition_sampler = LDS   # this samples from transition distribution is used as proposal\n",
    "        #self.observed_distr = OD   # the observed error is the function used to reweight the particles\n",
    "        dati.__init__(self)\n",
    "        self.np = number_of_particles\n",
    "        if proposal:   # in caso ci siano proposals\n",
    "            self.init_prop = proposal[0]\n",
    "            self.transition_prop = proposal[1]\n",
    "    \n",
    "    def fit_SMC(self, soggetto , theta, phi=[]):\n",
    "        self.soggetto = soggetto\n",
    "        self.select_subj(self.soggetto)\n",
    "        self.Y = self.yobsi\n",
    "        self.marginal_particle = [0 for _ in range(len(self.Y))]\n",
    "        self.marginal_y = 0\n",
    "        self.theta = theta\n",
    "        if len(phi)==0:\n",
    "            print(\"non ci sono le phii\")\n",
    "            self.phi = theta[:2]\n",
    "        else:\n",
    "            self.phi = phi\n",
    "        self.X_tot = np.zeros((self.np, len(self.Y)))\n",
    "        self.first_step()  # inizializza x(0)\n",
    "        self.second_step() # completa le x_i per i = 1,...,len(Y)\n",
    "    \n",
    "    def first_step(self):\n",
    "        X_0 = [self.initial_distr_sampler() for _ in range(self.np)]\n",
    "        self.X_tot[:,0] = np.array(X_0)\n",
    "        w_n = [self.observed_distr(x_0, 0) for x_0 in X_0]\n",
    "        s_w =sum(w_n)\n",
    "        self.marginal_particle[0] = s_w   # /self.np  ho deciso di toglierlo poiche nel MH scompare\n",
    "        W_n = np.array(w_n)/s_w\n",
    "        self.W = W_n\n",
    "    \n",
    "    def second_step(self):\n",
    "        indeces = np.arange(self.np)\n",
    "        A_n_m = np.random.choice(indeces , size=self.np, p= self.W)\n",
    "        X_n_m = self.X_tot[A_n_m.tolist(),0]\n",
    "        self.X_tot[:,0] = X_n_m\n",
    "        for t in range(1,len(self.Y)):\n",
    "            X_n = [self.latent_transition_sampler(x_1,t) for x_1 in X_n_m]\n",
    "            self.X_tot[:,t]= np.array(X_n)\n",
    "            \n",
    "            w_n = [self.observed_distr(x, t) for x in X_n]\n",
    "            s_w =sum(w_n)\n",
    "            \n",
    "            self.marginal_particle[t] = s_w    #/ self.np  ho deciso di toglierlo poiche nel MH scompare\n",
    "            #print(t, self.marginal[t], s_w)\n",
    "            self.W = np.array(w_n)/s_w\n",
    "            \n",
    "            A_n_m = np.random.choice(indeces, size=self.np, p= self.W)\n",
    "            \n",
    "            self.X_tot[indeces.tolist(), 0:t] = self.X_tot[A_n_m.tolist(),0 : t]\n",
    "            X_n_m = self.X_tot[:,t]\n",
    "            \n",
    "        self.marginal_y = np.prod(np.array(self.marginal_particle))\n",
    "        \n",
    "    def sampling_a_path(self):\n",
    "        indeces = np.arange(self.np)\n",
    "        part = np.random.choice(indeces, size=1, p= self.W)\n",
    "        return self.X_tot[part, :]\n",
    "    \n",
    "    def initial_distr_sampler(self):\n",
    "        return 1e-7\n",
    "    \n",
    "    def observed_distr(self, x_, t_ ):\n",
    "        #foo = (x_ - self.Y[t_])/ self.theta[5]\n",
    "        #p = 1/(np.sqrt(2*np.pi)* self.theta[5]) * np.exp(-(foo)**2/2)\n",
    "        p = norm.pdf(x_,self.Y[t_], self.theta[5])\n",
    "        if p ==0:\n",
    "            p = 1e-100\n",
    "        #print(t_, x_, p,p_s,  x_ - self.Y[t_], self.theta[5], foo)\n",
    "        \n",
    "        return p\n",
    "    \n",
    "    def latent_transition_sampler(self, x_t, time):\n",
    "        ###   beta = theta[2]\n",
    "        t_j = self.timei[time]; t_j_1 = self.timei[time-1]\n",
    "        deltatime = t_j - t_j_1\n",
    "        u_j = self.EulerStep(x_t, t_j_1, t_j, deltatime)\n",
    "        s_j = self.theta[4] * u_j * np.sqrt(deltatime)\n",
    "        x_t1 = u_j + s_j* np.random.normal()\n",
    "        if x_t1 < 1e-30:\n",
    "            x_t1 = 1e-30\n",
    "        \n",
    "        return x_t1\n",
    "        \n",
    "        \n",
    "    def EulerStep(self, x_t, time0, time1, deltat):\n",
    "        x_t1 = x_t\n",
    "        time = time0\n",
    "        while time < time1:\n",
    "            if (time1-time)>deltat:\n",
    "                dt = deltat\n",
    "            else:\n",
    "                dt = time1-time\n",
    "            x_t1 += self.ModelDrift(x_t1)\n",
    "            time += dt\n",
    "        return x_t1\n",
    "    \n",
    "    def ModelDrift(self, X):\n",
    "        return self.phi[0]* np.log(self.phi[1]/X)* X\n",
    "        \n",
    "        \n",
    "        \n",
    "        "
   ]
  },
  {
   "cell_type": "code",
   "execution_count": 14,
   "metadata": {},
   "outputs": [
    {
     "name": "stdout",
     "output_type": "stream",
     "text": [
      "non ci sono le phii\n"
     ]
    }
   ],
   "source": [
    "theta = [0.27, 5e-4, 0.04, 35e-4, 0.18, 1e-6]\n",
    "SMC = Sequential_Monte_Carlo()\n",
    "SMC.fit_SMC(1, theta)\n",
    "\n",
    "\n",
    "plt.plot(SMC.timei, SMC.yobsi, \"r*\",markersize=8, label= \"observed values\")\n",
    "plt.plot(SMC.timei, SMC.sampling_a_path().flatten(), \"b*\",markersize=8, label= \"observed values\")"
   ]
  },
  {
   "cell_type": "code",
   "execution_count": 16,
   "metadata": {},
   "outputs": [
    {
     "data": {
      "text/plain": [
       "([365.1279534788216,\n",
       "  23653.440043797604,\n",
       "  2.418592067631805e-17,\n",
       "  3.668611840421917e-29,\n",
       "  8.735685340716055e-92,\n",
       "  5.5760691037055804e-33,\n",
       "  9.639818098736005e-13,\n",
       "  155896.36272643323,\n",
       "  1.762355430761906e-47,\n",
       "  335104.79570388835,\n",
       "  2.500000000000001e-99,\n",
       "  2.500000000000001e-99,\n",
       "  5.738987491805321e-49,\n",
       "  2.500000000000001e-99,\n",
       "  2.500000000000001e-99],\n",
       " 0.0)"
      ]
     },
     "execution_count": 16,
     "metadata": {},
     "output_type": "execute_result"
    }
   ],
   "source": [
    "SMC.marginal_particle , SMC.marginal_y"
   ]
  },
  {
   "cell_type": "code",
   "execution_count": 19,
   "metadata": {},
   "outputs": [
    {
     "data": {
      "text/plain": [
       "[<matplotlib.lines.Line2D at 0x7fd483ffaa58>]"
      ]
     },
     "execution_count": 19,
     "metadata": {},
     "output_type": "execute_result"
    },
    {
     "data": {
      "image/png": "[encoded data removed]",
      "text/plain": [
       "<Figure size 432x288 with 1 Axes>"
      ]
     },
     "metadata": {},
     "output_type": "display_data"
    }
   ],
   "source": []
  },
  {
   "cell_type": "code",
   "execution_count": 22,
   "metadata": {},
   "outputs": [
    {
     "name": "stdout",
     "output_type": "stream",
     "text": [
      "non ci sono le phii\n",
      "tempo esecuzione :  0.04549813270568848\n",
      "marginal Y =  2.544320543788753e+71\n"
     ]
    },
    {
     "data": {
      "text/plain": [
       "[99633.74024026355,\n",
       " 99674.75038727971,\n",
       " 99174.99894349142,\n",
       " 98774.64342721688,\n",
       " 96386.17167029502,\n",
       " 96949.0116797393,\n",
       " 95415.05645393283,\n",
       " 93937.73955053704,\n",
       " 85849.51787978646,\n",
       " 91207.78788737426,\n",
       " 36365.257742149,\n",
       " 38390.925240450626,\n",
       " 47361.72503289284,\n",
       " 15995.909365784819,\n",
       " 3770.4739582662073]"
      ]
     },
     "execution_count": 22,
     "metadata": {},
     "output_type": "execute_result"
    },
    {
     "data": {
      "image/png": "[encoded data removed]",
      "text/plain": [
       "<Figure size 432x288 with 2 Axes>"
      ]
     },
     "metadata": {},
     "output_type": "display_data"
    }
   ],
   "source": []
  },
  {
   "cell_type": "code",
   "execution_count": null,
   "metadata": {},
   "outputs": [],
   "source": []
  }
 ],
 "metadata": {
  "kernelspec": {
   "display_name": "conda_python3",
   "language": "python",
   "name": "conda_python3"
  },
  "language_info": {
   "codemirror_mode": {
    "name": "ipython",
    "version": 3
   },
   "file_extension": ".py",
   "mimetype": "text/x-python",
   "name": "python",
   "nbconvert_exporter": "python",
   "pygments_lexer": "ipython3",
   "version": "3.6.5"
  }
 },
 "nbformat": 4,
 "nbformat_minor": 2
}
