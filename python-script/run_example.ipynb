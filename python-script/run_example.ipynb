{
 "cells": [
  {
   "cell_type": "code",
   "execution_count": 3,
   "metadata": {},
   "outputs": [],
   "source": [
    "from SAEM import Stochasti_Approximation_Expectation_Maximization\n",
    "from time import time"
   ]
  },
  {
   "cell_type": "code",
   "execution_count": null,
   "metadata": {},
   "outputs": [
    {
     "name": "stdout",
     "output_type": "stream",
     "text": [
      "### ottimizazione iterazione :  0\n"
     ]
    }
   ],
   "source": [
    "start = time()\n",
    "# self.PARMIN = [0.01, 1e-6, 0.0001, 1e-5, 0.0001, 1e-5] ; self.PARMAX = [1, 1e-1, 0.05, 1e-1, 1, 1e-3]\n",
    "theta = [0.3, 0.009, 0.2, 0.3, 0.3, 0.0001]   # [0.27, 0.0005, 0.04, 0.0035, 0.18, 0.0001]\n",
    "SAEM = Stochasti_Approximation_Expectation_Maximization()\n",
    "#SAEM.inizializza(theta)\n",
    "SAEM.run(theta)\n",
    "print(\"tempo esecuzione : %.5f \"% (time()-start))"
   ]
  },
  {
   "cell_type": "code",
   "execution_count": null,
   "metadata": {},
   "outputs": [],
   "source": [
    "import matplotlib.pyplot as plt\n",
    "import numpy as np\n",
    "def x_fun_espl(t, alpha, kappa, Y_0):\n",
    "    y = kappa * np.exp( np.log(Y_0/kappa) *  np.exp(- alpha* t))\n",
    "    return y\n"
   ]
  },
  {
   "cell_type": "code",
   "execution_count": null,
   "metadata": {},
   "outputs": [],
   "source": [
    "s_= 6\n",
    "SAEM.select_subj(s_)\n",
    "plt.plot(SAEM.timei, SAEM.yobsi, \"r*\")\n",
    "tempo = np.linspace(0.0, 25, 25000)\n",
    "x_hat_medio = x_fun_espl(tempo,  SAEM.theta_choose[0], SAEM.theta_choose[1], 1e-7)  \n",
    "x_hati = x_fun_espl(tempo, SAEM.PhiALL[SAEM.iterazione,s_ - 1, 0], SAEM.PhiALL[SAEM.iterazione,s_ -1, 1], 1e-7)  \n",
    "plt.plot(tempo, x_hati, \"g-\", label = \"ultimi phii\") \n",
    "plt.plot(tempo, x_hat_medio, label = \"medio popolazione\")\n",
    "plt.legend()"
   ]
  },
  {
   "cell_type": "code",
   "execution_count": null,
   "metadata": {},
   "outputs": [],
   "source": []
  }
 ],
 "metadata": {
  "kernelspec": {
   "display_name": "Python 3",
   "language": "python",
   "name": "python3"
  },
  "language_info": {
   "codemirror_mode": {
    "name": "ipython",
    "version": 3
   },
   "file_extension": ".py",
   "mimetype": "text/x-python",
   "name": "python",
   "nbconvert_exporter": "python",
   "pygments_lexer": "ipython3",
   "version": "3.6.4"
  }
 },
 "nbformat": 4,
 "nbformat_minor": 2
}
