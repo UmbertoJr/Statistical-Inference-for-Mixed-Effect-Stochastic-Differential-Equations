{
 "cells": [
  {
   "cell_type": "code",
   "execution_count": 1,
   "metadata": {},
   "outputs": [
    {
     "name": "stdout",
     "output_type": "stream",
     "text": [
      "test per verificare che non ci siano Null :  True\n"
     ]
    }
   ],
   "source": [
    "import numpy as np\n",
    "import matplotlib.pyplot as plt\n",
    "\n",
    "\n",
    "\n",
    "### experiment data load\n",
    "data = np.genfromtxt('FreyerSutherland.dat')\n",
    "\n",
    "data = data[1:]\n",
    "time = data[:,0]\n",
    "yobs = data[:,1]\n",
    "subj = data[:,2]\n",
    "\n",
    "print( \"test per verificare che non ci siano Null : \" , np.sum(data[:,1] != -888.88) == data.shape[0])\n"
   ]
  },
  {
   "cell_type": "code",
   "execution_count": 38,
   "metadata": {},
   "outputs": [],
   "source": [
    "\n",
    "def drift( X, par = []):\n",
    "    alpha = par[0]; kappa = par[1]    \n",
    "    dXdt = alpha* np.log(kappa/X)*X\n",
    "    return dXdt \n",
    "\n",
    "\n",
    "def eulerStep_vec(par=[]):\n",
    "    time_vec = np.linspace(0.0, 25, 25000)\n",
    "    delta_time = time_vec[1] - time_vec[0]\n",
    "    xmean = np.zeros(25000)\n",
    "    xmean[0] = 1e-7\n",
    "    for i in range(1,25000):\n",
    "        xmean[i]= xmean[i-1] + drift(xmean[i-1], par)* delta_time\n",
    "  \n",
    "    return (time_vec, xmean)\n",
    "\n",
    "\n",
    "\n",
    "class sampler_from_SDE:\n",
    "    def __init__(self, soggetto, alpha, kappa, beta):\n",
    "        self.sog = soggetto\n",
    "        self.time_vec = time[subj == (soggetto - 1)]\n",
    "        self.beta = beta\n",
    "        self.alpha = alpha\n",
    "        self.kappa = kappa\n",
    "        self.eulerStep_vec(); self.upper_lower_bounds()\n",
    "        \n",
    "  \n",
    "    def transition_X_sampler(self):\n",
    "  \n",
    "        return \n",
    "  \n",
    "    def upper_lower_bounds(self):\n",
    "        self.upper = self.vec_xmean + self.beta*self.vec_xmean*np.sqrt(self.vec_time)\n",
    "        self.lower = self.vec_xmean - self.beta*self.vec_xmean*np.sqrt(self.vec_time)\n",
    "        \n",
    "    \n",
    "    def drift(self, X):\n",
    "        dXdt = self.alpha* np.log(self.kappa/X)*X\n",
    "        return dXdt \n",
    "\n",
    "\n",
    "    def eulerStep_vec(self):\n",
    "        time_vec = np.linspace(0.0, 25, 25000)\n",
    "        delta_time = time_vec[1] - time_vec[0]\n",
    "        xmean = np.zeros(25000)\n",
    "        xmean[0] = 1e-7\n",
    "        for i in range(1,25000):\n",
    "            xmean[i]= xmean[i-1] + self.drift(xmean[i-1])* delta_time\n",
    "\n",
    "        self.vec_time, self.vec_xmean = (time_vec, xmean)\n",
    "        \n",
    "    def plot_ci(self):\n",
    "        plt.plot(sampler.vec_time, sampler.upper, color=[0.2,0.3,0.3,0.2])\n",
    "        plt.plot(sampler.vec_time, sampler.vec_xmean, color = \"blue\")\n",
    "        plt.plot(sampler.vec_time, sampler.lower,  color=[0.2,0.3,0.3,0.2])\n"
   ]
  },
  {
   "cell_type": "code",
   "execution_count": 39,
   "metadata": {},
   "outputs": [],
   "source": [
    "sampler = sampler_from_SDE(1,1.65529677e-01, 1.26416416e-03, 1e-01)"
   ]
  },
  {
   "cell_type": "code",
   "execution_count": 42,
   "metadata": {},
   "outputs": [
    {
     "name": "stderr",
     "output_type": "stream",
     "text": [
      "No handles with labels found to put in legend.\n"
     ]
    },
    {
     "data": {
      "text/plain": [
       "<matplotlib.legend.Legend at 0x1916eb92d68>"
      ]
     },
     "execution_count": 42,
     "metadata": {},
     "output_type": "execute_result"
    },
    {
     "data": {
      "image/png": "[encoded data removed]",
      "text/plain": [
       "<matplotlib.figure.Figure at 0x1916db30ac8>"
      ]
     },
     "metadata": {},
     "output_type": "display_data"
    }
   ],
   "source": [
    "num=1\n",
    "#for num in range(1,7):\n",
    "timei = time[subj == num]\n",
    "yobsi = yobs[subj == num]\n",
    "plt.plot(timei , yobsi, \"r*\", markersize=12)\n",
    "\n",
    "\n",
    "\n",
    "#t_v_voluti, x_m_voluti = eulerStep_vec(par=[2.10637195e-01, 6.60442535e-04]) # risultati di Simona  0.27, 5e-4 \n",
    "t_v_voluti2, x_m_voluti2 = eulerStep_vec(par=[1.231e-01 , 1.166e-03]) #2.56794398e-01, 3.89804051e-04\n",
    "#9.894e-02 , 2.222e-03\n",
    "sampler = sampler_from_SDE(1,1.226e-01 , 1.199e-03, 1.97557096e-01)\n",
    "sampler.plot_ci()\n",
    "# miei risultati  8.565e-02 , 5.973e-03     #8.220e-02 , 4.064e-03  #9.37250847e-02, 2.47581883e-03   \n",
    "#2.03241629e-01, 9.38913914e-04 #2.21169055e-01, 7.28137895e-04\n",
    "\n",
    "#plt.plot(timei[0]+t_v_voluti, x_m_voluti, \"b-\")\n",
    "plt.plot(t_v_voluti2, x_m_voluti2, \"g-\") #timei[0]+\n",
    "\n",
    "plt.legend()\n",
    "\n"
   ]
  },
  {
   "cell_type": "code",
   "execution_count": 4,
   "metadata": {},
   "outputs": [
    {
     "data": {
      "text/plain": [
       "array([ 4.4526,  5.6351,  6.4907,  7.6979,  8.4773,  9.2978, 10.692 ,\n",
       "       11.3167, 12.8289, 14.5346, 15.5006, 16.4679])"
      ]
     },
     "execution_count": 4,
     "metadata": {},
     "output_type": "execute_result"
    }
   ],
   "source": [
    "timei"
   ]
  },
  {
   "cell_type": "code",
   "execution_count": 93,
   "metadata": {},
   "outputs": [
    {
     "name": "stdout",
     "output_type": "stream",
     "text": [
      "soggetto 1  len 15\n",
      "Initial Objective: 2.810208740170101e-08\n",
      "Final Objective: 1.0947744664484126e-08\n",
      "Solution\n",
      "x1 = 0.06146271701165419\n",
      "x2 = 0.009857023923450215\n",
      "x3 = 7.246447093953599e-07\n",
      "\n",
      "\n",
      "soggetto 2  len 13\n",
      "Initial Objective: 1.3129421141631316e-07\n",
      "Final Objective: 3.2025504268022123e-09\n",
      "Solution\n",
      "x1 = 0.13050850563337352\n",
      "x2 = 0.0037410307953149842\n",
      "x3 = 2.3322670350875604e-10\n",
      "\n",
      "\n",
      "soggetto 3  len 16\n",
      "Initial Objective: 3.8011474453155053e-07\n",
      "Final Objective: 4.560436568254855e-09\n",
      "Solution\n",
      "x1 = 0.11134271223834105\n",
      "x2 = 0.0005911655136717753\n",
      "x3 = 1.8532063971624384e-07\n",
      "\n",
      "\n",
      "soggetto 4  len 12\n",
      "Initial Objective: 9.489647471113416e-09\n",
      "Final Objective: 2.000069017152599e-09\n",
      "Solution\n",
      "x1 = 0.118954890562699\n",
      "x2 = 0.0012565210224234917\n",
      "x3 = 1.053362331095203e-07\n",
      "\n",
      "\n",
      "soggetto 5  len 18\n",
      "Initial Objective: 7.790961639640154e-08\n",
      "Final Objective: 1.9610549864022868e-08\n",
      "Solution\n",
      "x1 = 0.08618802427181693\n",
      "x2 = 0.0026959220106330542\n",
      "x3 = 6.072948180819819e-07\n",
      "\n",
      "\n",
      "soggetto 6  len 12\n",
      "Initial Objective: 4.106639723537854e-09\n",
      "Final Objective: 5.998076700693817e-10\n",
      "Solution\n",
      "x1 = 0.22436520736489107\n",
      "x2 = 0.00038771310296422865\n",
      "x3 = 2.1455085303120002e-11\n",
      "\n",
      "\n"
     ]
    },
    {
     "data": {
      "image/png": "[encoded data removed]",
      "text/plain": [
       "<matplotlib.figure.Figure at 0x1a349fef710>"
      ]
     },
     "metadata": {},
     "output_type": "display_data"
    }
   ],
   "source": [
    "#import numpy as np\n",
    "from scipy.optimize import minimize\n",
    "alpha_list = [] ;kappa_list = []; Y_0_list = []\n",
    "\n",
    "for num in range(1,7):\n",
    "\n",
    "    timei = time[subj == num]\n",
    "    yobsi = yobs[subj == num]\n",
    "    print(\"soggetto %d  len %d\"% (num , len(timei)))\n",
    "\n",
    "\n",
    "    \n",
    "    def x_fun_espl(t, alpha, kappa, Y_0):\n",
    "        y = kappa * np.exp( np.log(Y_0/kappa) *  np.exp(- alpha* t))\n",
    "        return y\n",
    "\n",
    "    def objective(phii):\n",
    "        global timei, yobsi\n",
    "        alpha = phii[0]; kappa = phii[1] ; Y_0 = phii[2]\n",
    "        x_hat_i= x_fun_espl(timei, alpha, kappa, Y_0)\n",
    "        return np.sum(np.power((yobsi-x_hat_i), 2))\n",
    "\n",
    "\n",
    "\n",
    "\n",
    "    # initial guesses\n",
    "    n = 3\n",
    "    x0 = np.zeros(n)\n",
    "    x0[0] = 0.10\n",
    "    x0[1] = 0.002\n",
    "    x0[2] = 1e-7\n",
    "\n",
    "    # show initial objective\n",
    "    print('Initial Objective: ' + str(objective(x0)))\n",
    "\n",
    "    # optimize\n",
    "    solution = minimize(objective,x0, method='Nelder-Mead') \n",
    "    x = solution.x\n",
    "\n",
    "    # show final objective\n",
    "    print('Final Objective: ' + str(objective(x)))\n",
    "\n",
    "    # print solution\n",
    "    print('Solution')\n",
    "    print('x1 = ' + str(x[0]))\n",
    "    print('x2 = ' + str(x[1]))\n",
    "    print('x3 = ' + str(x[2]))\n",
    "    print(\"\\n\")\n",
    "    alpha_list.append(x[0]); kappa_list.append(x[1]); Y_0_list.append(x[2])\n",
    "\n",
    "    plt.plot(timei , yobsi, \"*\", markersize=12, label= \"observed values\")\n",
    "\n",
    "    tempo = np.linspace(0.0, 25, 25000)\n",
    "    x_hati = x_fun_espl(tempo, x[0], x[1], x[2])  \n",
    "    plt.plot(tempo, x_hati)\n"
   ]
  },
  {
   "cell_type": "code",
   "execution_count": 92,
   "metadata": {},
   "outputs": [
    {
     "data": {
      "text/plain": [
       "((0.12213700951379597, 0.05102455034656692),\n",
       " (0.003088229394742958, 0.0032475607757620974),\n",
       " (2.7047518034865296e-07, 2.887950623370755e-07))"
      ]
     },
     "execution_count": 92,
     "metadata": {},
     "output_type": "execute_result"
    }
   ],
   "source": [
    "((np.mean(alpha_list), np.sqrt(np.var(alpha_list))),(np.mean(kappa_list),np.sqrt(np.var(kappa_list))),\\\n",
    "  (np.mean(Y_0_list), np.sqrt(np.var(Y_0_list))))"
   ]
  },
  {
   "cell_type": "code",
   "execution_count": null,
   "metadata": {},
   "outputs": [],
   "source": []
  },
  {
   "cell_type": "code",
   "execution_count": null,
   "metadata": {},
   "outputs": [],
   "source": []
  }
 ],
 "metadata": {
  "kernelspec": {
   "display_name": "Python 3",
   "language": "python",
   "name": "python3"
  },
  "language_info": {
   "codemirror_mode": {
    "name": "ipython",
    "version": 3
   },
   "file_extension": ".py",
   "mimetype": "text/x-python",
   "name": "python",
   "nbconvert_exporter": "python",
   "pygments_lexer": "ipython3",
   "version": "3.6.4"
  }
 },
 "nbformat": 4,
 "nbformat_minor": 2
}
